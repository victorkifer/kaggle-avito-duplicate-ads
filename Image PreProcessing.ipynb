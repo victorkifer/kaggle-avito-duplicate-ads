{
 "cells": [
  {
   "cell_type": "code",
   "execution_count": 15,
   "metadata": {
    "collapsed": false
   },
   "outputs": [],
   "source": [
    "from __future__ import print_function\n",
    "\n",
    "import zipfile\n",
    "import os\n",
    "import sys\n",
    "import imagehash\n",
    "\n",
    "archive = zipfile.ZipFile('data/Images_0.zip', 'r')\n",
    "map_hashes = {}\n",
    "allfiles = archive.namelist()\n",
    "filecount = len(allfiles)\n",
    "pos = 0\n",
    "for filename in archive.namelist():\n",
    "    pos += 1\n",
    "    if not filename.endswith(\".jpg\"):\n",
    "        continue\n",
    "    \n",
    "    imgdata = archive.read(filename)\n",
    "\n",
    "    try:\n",
    "        from StringIO import StringIO\n",
    "\n",
    "        from PIL import Image\n",
    "        im = Image.open(StringIO(imgdata))\n",
    "\n",
    "        img_hash = imagehash.average_hash(im)\n",
    "        map_hashes[os.path.basename(filename)] = img_hash\n",
    "    except:\n",
    "        continue"
   ]
  },
  {
   "cell_type": "code",
   "execution_count": 17,
   "metadata": {
    "collapsed": false
   },
   "outputs": [
    {
     "data": {
      "text/plain": [
       "1082012"
      ]
     },
     "execution_count": 17,
     "metadata": {},
     "output_type": "execute_result"
    }
   ],
   "source": [
    "len(map_hashes)"
   ]
  },
  {
   "cell_type": "code",
   "execution_count": 18,
   "metadata": {
    "collapsed": true
   },
   "outputs": [],
   "source": [
    "import csv\n",
    "with open('hashes0.csv', 'wb') as csvfile:\n",
    "    writer = csv.writer(csvfile, delimiter=',', quotechar='\"')\n",
    "    \n",
    "    for key in map_hashes:\n",
    "        writer.writerow([key, map_hashes[key]])"
   ]
  },
  {
   "cell_type": "code",
   "execution_count": 26,
   "metadata": {
    "collapsed": false
   },
   "outputs": [
    {
     "name": "stdout",
     "output_type": "stream",
     "text": [
      "<class 'imagehash.ImageHash'>\n"
     ]
    }
   ],
   "source": [
    "import random\n",
    "\n",
    "print(type(map_hashes[random.choice(map_hashes.keys())]))"
   ]
  },
  {
   "cell_type": "code",
   "execution_count": 28,
   "metadata": {
    "collapsed": false
   },
   "outputs": [
    {
     "name": "stdout",
     "output_type": "stream",
     "text": [
      "e7e7ff21b1b131ff\n",
      "ff00ff0080ff00ff\n",
      "False\n",
      "20\n"
     ]
    }
   ],
   "source": [
    "from PIL import Image\n",
    "import imagehash\n",
    "hash = imagehash.average_hash(Image.open('test.png'))\n",
    "print(hash)\n",
    "otherhash = imagehash.average_hash(Image.open('other.png'))\n",
    "print(otherhash)\n",
    "print(hash == otherhash)\n",
    "print(imagehash.hex_to_hash(str(hash)) - otherhash)"
   ]
  },
  {
   "cell_type": "code",
   "execution_count": null,
   "metadata": {
    "collapsed": true
   },
   "outputs": [],
   "source": []
  }
 ],
 "metadata": {
  "kernelspec": {
   "display_name": "Python 2",
   "language": "python",
   "name": "python2"
  },
  "language_info": {
   "codemirror_mode": {
    "name": "ipython",
    "version": 2
   },
   "file_extension": ".py",
   "mimetype": "text/x-python",
   "name": "python",
   "nbconvert_exporter": "python",
   "pygments_lexer": "ipython2",
   "version": "2.7.6"
  }
 },
 "nbformat": 4,
 "nbformat_minor": 0
}
