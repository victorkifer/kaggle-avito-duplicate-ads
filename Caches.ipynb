{
 "cells": [
  {
   "cell_type": "code",
   "execution_count": 2,
   "metadata": {
    "collapsed": true
   },
   "outputs": [],
   "source": [
    "import csv\n",
    "def read_csv(filename, hasHeader=False):\n",
    "    data = []\n",
    "    with open(filename) as csvfile:\n",
    "        reader = csv.reader(csvfile, delimiter=',', quotechar='\"')\n",
    "        if (hasHeader):\n",
    "            next(reader, None)\n",
    "            \n",
    "        for row in reader:\n",
    "            data.append(row)\n",
    "    \n",
    "    return data"
   ]
  },
  {
   "cell_type": "code",
   "execution_count": null,
   "metadata": {
    "collapsed": true
   },
   "outputs": [],
   "source": [
    "import csv\n",
    "def write_csv(filename, header, data):\n",
    "    with open(filename, 'w+') as csvfile:\n",
    "        writer = csv.writer(csvfile, delimiter=',', quotechar='\"')\n",
    "        if header is not None:\n",
    "            writer.writerow(header)\n",
    "            \n",
    "        for row in data:\n",
    "            writer.writerow(row)"
   ]
  },
  {
   "cell_type": "code",
   "execution_count": 1,
   "metadata": {
    "collapsed": true
   },
   "outputs": [],
   "source": [
    "import os\n",
    "def file_available(filename):\n",
    "    return os.path.exists(filename)\\\n",
    "        and os.path.isfile(filename)\\\n",
    "        and os.access(\"myfile\", os.R_OK)"
   ]
  },
  {
   "cell_type": "code",
   "execution_count": null,
   "metadata": {
    "collapsed": true
   },
   "outputs": [],
   "source": [
    "COL_ITEM_ID=0\n",
    "COL_CATEGORY_ID=1\n",
    "COL_TITLE=2\n",
    "COL_DESCRIPTION=3\n",
    "COL_IMAGES=4\n",
    "COL_JSON=5\n",
    "COL_PRICE=6\n",
    "COL_LOCATION=7\n",
    "COL_METRO=8\n",
    "COL_LAT=9\n",
    "COL_LON=10"
   ]
  },
  {
   "cell_type": "code",
   "execution_count": null,
   "metadata": {
    "collapsed": true
   },
   "outputs": [],
   "source": [
    "import imagehash\n",
    "\n",
    "# 0 means absolutely equal (int)\n",
    "IMAGE_DIFFERENCE_THRESHOLD = 0\n",
    "\n",
    "def load_image_hashes():\n",
    "    map_hashes = {}\n",
    "    for i in range(10):\n",
    "        data = read_csv('processed_data/hashes' + str(i) + '.csv')\n",
    "        for row in data:\n",
    "            map_hashes[row[0]] = row[1]\n",
    "    return map_hashes\n",
    "\n",
    "def number_of_same_images(image_hashes, item1, item2):\n",
    "    imgs1 = item1[COL_IMAGES].split(',')\n",
    "    imgs2 = item2[COL_IMAGES].split(',')\n",
    "    imgs1 = set(filter(bool, [x.strip() for x in imgs1]))\n",
    "    imgs2 = set(filter(bool, [x.strip() for x in imgs2]))\n",
    "    \n",
    "    count = 0\n",
    "    for img1 in imgs1:\n",
    "        for img2 in imgs2:\n",
    "            try:\n",
    "                if imagehash.hex_to_hash(image_hashes[img1]) -\\\n",
    "                    imagehash.hex_to_hash(image_hashes[img2]) \\\n",
    "                    <= IMAGE_DIFFERENCE_THRESHOLD:\n",
    "                    count += 1\n",
    "                    break\n",
    "            except KeyError as e:\n",
    "                print(e)\n",
    "                \n",
    "    minlen = min(len(imgs1), len(imgs2))\n",
    "    \n",
    "    if minlen == 0:\n",
    "        print ('Some items have 0 images', item1[COL_ITEM_ID], item2[COL_ITEM_ID])\n",
    "        return (count, 0)\n",
    "    \n",
    "    return (count, count / minlen)\n",
    "\n",
    "def load_items_map():\n",
    "    items = read_csv('data/ItemInfo_train.csv', hasHeader=True)\n",
    "    print('Train items', len(items))\n",
    "    print('Item example', items[0])\n",
    "    map_items = dict()\n",
    "    for item in items:\n",
    "        map_items[item[COL_ITEM_ID]] = item\n",
    "    return map_items\n",
    "\n",
    "def load_item_pairs():\n",
    "    pairs = read_csv('data/ItemPairs_train.csv', hasHeader=True)\n",
    "    print('Train pairs', len(pairs))\n",
    "    print('Example pair', pairs[0])\n",
    "    return pairs\n",
    "\n",
    "def image_features(filename):\n",
    "    if file_available(filename):\n",
    "        print('Loading image features from cache');\n",
    "        return read_csv(filename)\n",
    "    \n",
    "    print('Generating image features')\n",
    "    image_hashes = load_image_hashes()\n",
    "    items = load_items_map()\n",
    "    item_pairs = load"
   ]
  },
  {
   "cell_type": "code",
   "execution_count": null,
   "metadata": {
    "collapsed": true
   },
   "outputs": [],
   "source": [
    "def text_features(filename)"
   ]
  },
  {
   "cell_type": "code",
   "execution_count": null,
   "metadata": {
    "collapsed": true
   },
   "outputs": [],
   "source": []
  },
  {
   "cell_type": "code",
   "execution_count": null,
   "metadata": {
    "collapsed": true
   },
   "outputs": [],
   "source": []
  }
 ],
 "metadata": {
  "kernelspec": {
   "display_name": "Python 3",
   "language": "python",
   "name": "python3"
  },
  "language_info": {
   "codemirror_mode": {
    "name": "ipython",
    "version": 3
   },
   "file_extension": ".py",
   "mimetype": "text/x-python",
   "name": "python",
   "nbconvert_exporter": "python",
   "pygments_lexer": "ipython3",
   "version": "3.4.3"
  }
 },
 "nbformat": 4,
 "nbformat_minor": 0
}
