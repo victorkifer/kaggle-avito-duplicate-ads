{
 "cells": [
  {
   "cell_type": "code",
   "execution_count": 2,
   "metadata": {
    "collapsed": true
   },
   "outputs": [],
   "source": [
    "import csv\n",
    "import codecs\n",
    "def read_csv(filename, hasHeader=False):\n",
    "    data = []\n",
    "    with open(filename) as csvfile:\n",
    "        reader = csv.reader(csvfile, delimiter=',', quotechar='\"')\n",
    "        if (hasHeader):\n",
    "            next(reader, None)\n",
    "            \n",
    "        for row in reader:\n",
    "            data.append(row)\n",
    "    \n",
    "    return data"
   ]
  },
  {
   "cell_type": "code",
   "execution_count": 3,
   "metadata": {
    "collapsed": false
   },
   "outputs": [
    {
     "name": "stdout",
     "output_type": "stream",
     "text": [
      "([1.0, 1.0, 1.0, 0.0, 1.0, 1.0, 1.0, 0.0, 1.0, 1.0, 1.0, 1.0, 4.0, 1.0], 1)\n"
     ]
    }
   ],
   "source": [
    "def get_train_data():\n",
    "    row_data = read_csv('train_data.csv')\n",
    "    xy = []\n",
    "    for row in row_data:\n",
    "        x = [float(z) for z in row[:-1]]\n",
    "        y = int(row[-1])\n",
    "        \n",
    "        xy.append((x, y))\n",
    "    return xy\n",
    "\n",
    "train = get_train_data()\n",
    "print(train[0])"
   ]
  },
  {
   "cell_type": "code",
   "execution_count": 4,
   "metadata": {
    "collapsed": false,
    "scrolled": true
   },
   "outputs": [
    {
     "name": "stdout",
     "output_type": "stream",
     "text": [
      "0.791209801431\n"
     ]
    }
   ],
   "source": [
    "from sklearn.cross_validation import train_test_split\n",
    "train_data, test_data = train_test_split(train, test_size=0.20, train_size=0.80)\n",
    "\n",
    "train_x = [x[0] for x in train_data]\n",
    "train_y = [x[1] for x in train_data]\n",
    "\n",
    "test_x = [x[0] for x in test_data]\n",
    "test_y = [x[1] for x in test_data]\n",
    "\n",
    "from sklearn.ensemble import RandomForestClassifier\n",
    "from sklearn.svm import SVC\n",
    "\n",
    "classifier = RandomForestClassifier(\n",
    "    n_estimators=50,\n",
    "    max_depth=10\n",
    ")\n",
    "# classifier = SVC()\n",
    "classifier.fit(train_x, train_y)\n",
    "\n",
    "print(classifier.score(test_x, test_y))\n",
    "# print(classifier.feature_importances_)"
   ]
  },
  {
   "cell_type": "code",
   "execution_count": 5,
   "metadata": {
    "collapsed": false
   },
   "outputs": [
    {
     "data": {
      "text/plain": [
       "['model/rfc.pkl',\n",
       " 'model/rfc.pkl_01.npy',\n",
       " 'model/rfc.pkl_02.npy',\n",
       " 'model/rfc.pkl_03.npy',\n",
       " 'model/rfc.pkl_04.npy',\n",
       " 'model/rfc.pkl_05.npy',\n",
       " 'model/rfc.pkl_06.npy',\n",
       " 'model/rfc.pkl_07.npy',\n",
       " 'model/rfc.pkl_08.npy',\n",
       " 'model/rfc.pkl_09.npy',\n",
       " 'model/rfc.pkl_10.npy',\n",
       " 'model/rfc.pkl_11.npy',\n",
       " 'model/rfc.pkl_12.npy',\n",
       " 'model/rfc.pkl_13.npy',\n",
       " 'model/rfc.pkl_14.npy',\n",
       " 'model/rfc.pkl_15.npy',\n",
       " 'model/rfc.pkl_16.npy',\n",
       " 'model/rfc.pkl_17.npy',\n",
       " 'model/rfc.pkl_18.npy',\n",
       " 'model/rfc.pkl_19.npy',\n",
       " 'model/rfc.pkl_20.npy',\n",
       " 'model/rfc.pkl_21.npy',\n",
       " 'model/rfc.pkl_22.npy',\n",
       " 'model/rfc.pkl_23.npy',\n",
       " 'model/rfc.pkl_24.npy',\n",
       " 'model/rfc.pkl_25.npy',\n",
       " 'model/rfc.pkl_26.npy',\n",
       " 'model/rfc.pkl_27.npy',\n",
       " 'model/rfc.pkl_28.npy',\n",
       " 'model/rfc.pkl_29.npy',\n",
       " 'model/rfc.pkl_30.npy',\n",
       " 'model/rfc.pkl_31.npy',\n",
       " 'model/rfc.pkl_32.npy',\n",
       " 'model/rfc.pkl_33.npy',\n",
       " 'model/rfc.pkl_34.npy',\n",
       " 'model/rfc.pkl_35.npy',\n",
       " 'model/rfc.pkl_36.npy',\n",
       " 'model/rfc.pkl_37.npy',\n",
       " 'model/rfc.pkl_38.npy',\n",
       " 'model/rfc.pkl_39.npy',\n",
       " 'model/rfc.pkl_40.npy',\n",
       " 'model/rfc.pkl_41.npy',\n",
       " 'model/rfc.pkl_42.npy',\n",
       " 'model/rfc.pkl_43.npy',\n",
       " 'model/rfc.pkl_44.npy',\n",
       " 'model/rfc.pkl_45.npy',\n",
       " 'model/rfc.pkl_46.npy',\n",
       " 'model/rfc.pkl_47.npy',\n",
       " 'model/rfc.pkl_48.npy',\n",
       " 'model/rfc.pkl_49.npy',\n",
       " 'model/rfc.pkl_50.npy',\n",
       " 'model/rfc.pkl_51.npy',\n",
       " 'model/rfc.pkl_52.npy',\n",
       " 'model/rfc.pkl_53.npy',\n",
       " 'model/rfc.pkl_54.npy',\n",
       " 'model/rfc.pkl_55.npy',\n",
       " 'model/rfc.pkl_56.npy',\n",
       " 'model/rfc.pkl_57.npy',\n",
       " 'model/rfc.pkl_58.npy',\n",
       " 'model/rfc.pkl_59.npy',\n",
       " 'model/rfc.pkl_60.npy',\n",
       " 'model/rfc.pkl_61.npy',\n",
       " 'model/rfc.pkl_62.npy',\n",
       " 'model/rfc.pkl_63.npy',\n",
       " 'model/rfc.pkl_64.npy',\n",
       " 'model/rfc.pkl_65.npy',\n",
       " 'model/rfc.pkl_66.npy',\n",
       " 'model/rfc.pkl_67.npy',\n",
       " 'model/rfc.pkl_68.npy',\n",
       " 'model/rfc.pkl_69.npy',\n",
       " 'model/rfc.pkl_70.npy',\n",
       " 'model/rfc.pkl_71.npy',\n",
       " 'model/rfc.pkl_72.npy',\n",
       " 'model/rfc.pkl_73.npy',\n",
       " 'model/rfc.pkl_74.npy',\n",
       " 'model/rfc.pkl_75.npy',\n",
       " 'model/rfc.pkl_76.npy',\n",
       " 'model/rfc.pkl_77.npy',\n",
       " 'model/rfc.pkl_78.npy',\n",
       " 'model/rfc.pkl_79.npy',\n",
       " 'model/rfc.pkl_80.npy',\n",
       " 'model/rfc.pkl_81.npy',\n",
       " 'model/rfc.pkl_82.npy',\n",
       " 'model/rfc.pkl_83.npy',\n",
       " 'model/rfc.pkl_84.npy',\n",
       " 'model/rfc.pkl_85.npy',\n",
       " 'model/rfc.pkl_86.npy',\n",
       " 'model/rfc.pkl_87.npy',\n",
       " 'model/rfc.pkl_88.npy',\n",
       " 'model/rfc.pkl_89.npy',\n",
       " 'model/rfc.pkl_90.npy',\n",
       " 'model/rfc.pkl_91.npy',\n",
       " 'model/rfc.pkl_92.npy',\n",
       " 'model/rfc.pkl_93.npy',\n",
       " 'model/rfc.pkl_94.npy',\n",
       " 'model/rfc.pkl_95.npy',\n",
       " 'model/rfc.pkl_96.npy',\n",
       " 'model/rfc.pkl_97.npy',\n",
       " 'model/rfc.pkl_98.npy',\n",
       " 'model/rfc.pkl_99.npy',\n",
       " 'model/rfc.pkl_100.npy',\n",
       " 'model/rfc.pkl_101.npy',\n",
       " 'model/rfc.pkl_102.npy',\n",
       " 'model/rfc.pkl_103.npy',\n",
       " 'model/rfc.pkl_104.npy',\n",
       " 'model/rfc.pkl_105.npy',\n",
       " 'model/rfc.pkl_106.npy',\n",
       " 'model/rfc.pkl_107.npy',\n",
       " 'model/rfc.pkl_108.npy',\n",
       " 'model/rfc.pkl_109.npy',\n",
       " 'model/rfc.pkl_110.npy',\n",
       " 'model/rfc.pkl_111.npy',\n",
       " 'model/rfc.pkl_112.npy',\n",
       " 'model/rfc.pkl_113.npy',\n",
       " 'model/rfc.pkl_114.npy',\n",
       " 'model/rfc.pkl_115.npy',\n",
       " 'model/rfc.pkl_116.npy',\n",
       " 'model/rfc.pkl_117.npy',\n",
       " 'model/rfc.pkl_118.npy',\n",
       " 'model/rfc.pkl_119.npy',\n",
       " 'model/rfc.pkl_120.npy',\n",
       " 'model/rfc.pkl_121.npy',\n",
       " 'model/rfc.pkl_122.npy',\n",
       " 'model/rfc.pkl_123.npy',\n",
       " 'model/rfc.pkl_124.npy',\n",
       " 'model/rfc.pkl_125.npy',\n",
       " 'model/rfc.pkl_126.npy',\n",
       " 'model/rfc.pkl_127.npy',\n",
       " 'model/rfc.pkl_128.npy',\n",
       " 'model/rfc.pkl_129.npy',\n",
       " 'model/rfc.pkl_130.npy',\n",
       " 'model/rfc.pkl_131.npy',\n",
       " 'model/rfc.pkl_132.npy',\n",
       " 'model/rfc.pkl_133.npy',\n",
       " 'model/rfc.pkl_134.npy',\n",
       " 'model/rfc.pkl_135.npy',\n",
       " 'model/rfc.pkl_136.npy',\n",
       " 'model/rfc.pkl_137.npy',\n",
       " 'model/rfc.pkl_138.npy',\n",
       " 'model/rfc.pkl_139.npy',\n",
       " 'model/rfc.pkl_140.npy',\n",
       " 'model/rfc.pkl_141.npy',\n",
       " 'model/rfc.pkl_142.npy',\n",
       " 'model/rfc.pkl_143.npy',\n",
       " 'model/rfc.pkl_144.npy',\n",
       " 'model/rfc.pkl_145.npy',\n",
       " 'model/rfc.pkl_146.npy',\n",
       " 'model/rfc.pkl_147.npy',\n",
       " 'model/rfc.pkl_148.npy',\n",
       " 'model/rfc.pkl_149.npy',\n",
       " 'model/rfc.pkl_150.npy',\n",
       " 'model/rfc.pkl_151.npy',\n",
       " 'model/rfc.pkl_152.npy',\n",
       " 'model/rfc.pkl_153.npy',\n",
       " 'model/rfc.pkl_154.npy',\n",
       " 'model/rfc.pkl_155.npy',\n",
       " 'model/rfc.pkl_156.npy',\n",
       " 'model/rfc.pkl_157.npy',\n",
       " 'model/rfc.pkl_158.npy',\n",
       " 'model/rfc.pkl_159.npy',\n",
       " 'model/rfc.pkl_160.npy',\n",
       " 'model/rfc.pkl_161.npy',\n",
       " 'model/rfc.pkl_162.npy',\n",
       " 'model/rfc.pkl_163.npy',\n",
       " 'model/rfc.pkl_164.npy',\n",
       " 'model/rfc.pkl_165.npy',\n",
       " 'model/rfc.pkl_166.npy',\n",
       " 'model/rfc.pkl_167.npy',\n",
       " 'model/rfc.pkl_168.npy',\n",
       " 'model/rfc.pkl_169.npy',\n",
       " 'model/rfc.pkl_170.npy',\n",
       " 'model/rfc.pkl_171.npy',\n",
       " 'model/rfc.pkl_172.npy',\n",
       " 'model/rfc.pkl_173.npy',\n",
       " 'model/rfc.pkl_174.npy',\n",
       " 'model/rfc.pkl_175.npy',\n",
       " 'model/rfc.pkl_176.npy',\n",
       " 'model/rfc.pkl_177.npy',\n",
       " 'model/rfc.pkl_178.npy',\n",
       " 'model/rfc.pkl_179.npy',\n",
       " 'model/rfc.pkl_180.npy',\n",
       " 'model/rfc.pkl_181.npy',\n",
       " 'model/rfc.pkl_182.npy',\n",
       " 'model/rfc.pkl_183.npy',\n",
       " 'model/rfc.pkl_184.npy',\n",
       " 'model/rfc.pkl_185.npy',\n",
       " 'model/rfc.pkl_186.npy',\n",
       " 'model/rfc.pkl_187.npy',\n",
       " 'model/rfc.pkl_188.npy',\n",
       " 'model/rfc.pkl_189.npy',\n",
       " 'model/rfc.pkl_190.npy',\n",
       " 'model/rfc.pkl_191.npy',\n",
       " 'model/rfc.pkl_192.npy',\n",
       " 'model/rfc.pkl_193.npy',\n",
       " 'model/rfc.pkl_194.npy',\n",
       " 'model/rfc.pkl_195.npy',\n",
       " 'model/rfc.pkl_196.npy',\n",
       " 'model/rfc.pkl_197.npy',\n",
       " 'model/rfc.pkl_198.npy',\n",
       " 'model/rfc.pkl_199.npy',\n",
       " 'model/rfc.pkl_200.npy',\n",
       " 'model/rfc.pkl_201.npy']"
      ]
     },
     "execution_count": 5,
     "metadata": {},
     "output_type": "execute_result"
    }
   ],
   "source": [
    "from sklearn.externals import joblib\n",
    "\n",
    "joblib.dump(classifier, 'model/rfc.pkl') "
   ]
  },
  {
   "cell_type": "code",
   "execution_count": 6,
   "metadata": {
    "collapsed": true
   },
   "outputs": [],
   "source": [
    "from sklearn.externals import joblib\n",
    "\n",
    "classifier = joblib.load('model/rfc.pkl') "
   ]
  },
  {
   "cell_type": "markdown",
   "metadata": {},
   "source": [
    "# TEST data"
   ]
  },
  {
   "cell_type": "code",
   "execution_count": 20,
   "metadata": {
    "collapsed": false
   },
   "outputs": [
    {
     "name": "stdout",
     "output_type": "stream",
     "text": [
      "([1.0, 1.0, 1.0, 0.0, 1.0, 1.0, 1.0, 0.0, 1.0, 1.0, 0.127359529795, 0.0481741584195, 0.0, 0.0], 0)\n"
     ]
    }
   ],
   "source": [
    "def get_test_data():\n",
    "    row_data = read_csv('test_data.csv')\n",
    "    xy = []\n",
    "    for row in row_data:\n",
    "        x = [float(z) for z in row[1:]]\n",
    "        rid = int(row[0])\n",
    "        xy.append((x, rid))\n",
    "    return xy\n",
    "\n",
    "test = get_test_data()\n",
    "print(test[0])"
   ]
  },
  {
   "cell_type": "code",
   "execution_count": 10,
   "metadata": {
    "collapsed": false
   },
   "outputs": [
    {
     "name": "stdout",
     "output_type": "stream",
     "text": [
      "([1.0, 1.0, 1.0, 0.0, 1.0, 1.0, 1.0, 0.0, 1.0, 1.0, 0.127359529795, 0.0481741584195, 0.0, 0.0], 0)\n"
     ]
    }
   ],
   "source": [
    "test_f = [x[0] for x in test]\n",
    "\n",
    "test_l = classifier.predict_proba(test_f)\n"
   ]
  },
  {
   "cell_type": "code",
   "execution_count": 11,
   "metadata": {
    "collapsed": false
   },
   "outputs": [
    {
     "name": "stdout",
     "output_type": "stream",
     "text": [
      "[ 0.82458246  0.17541754]\n"
     ]
    }
   ],
   "source": [
    "print(test_l[0])"
   ]
  },
  {
   "cell_type": "code",
   "execution_count": 12,
   "metadata": {
    "collapsed": false
   },
   "outputs": [
    {
     "name": "stdout",
     "output_type": "stream",
     "text": [
      "[0 1]\n"
     ]
    }
   ],
   "source": [
    "print(classifier.classes_)"
   ]
  },
  {
   "cell_type": "code",
   "execution_count": 21,
   "metadata": {
    "collapsed": true
   },
   "outputs": [],
   "source": [
    "result = [(x[1], y[1]) for x,y in zip(test, test_l)]"
   ]
  },
  {
   "cell_type": "code",
   "execution_count": 22,
   "metadata": {
    "collapsed": false
   },
   "outputs": [
    {
     "name": "stdout",
     "output_type": "stream",
     "text": [
      "(0, 0.17541754204113399)\n"
     ]
    }
   ],
   "source": [
    "print(result[0])"
   ]
  },
  {
   "cell_type": "code",
   "execution_count": 23,
   "metadata": {
    "collapsed": true
   },
   "outputs": [],
   "source": [
    "import csv\n",
    "def write_csv(filename, header, data):\n",
    "    with open(filename, 'w+') as csvfile:\n",
    "        writer = csv.writer(csvfile, delimiter=',', quotechar='\"')\n",
    "        if header is not None:\n",
    "            writer.writerow(header)\n",
    "            \n",
    "        for row in data:\n",
    "            writer.writerow(row)"
   ]
  },
  {
   "cell_type": "code",
   "execution_count": 24,
   "metadata": {
    "collapsed": true
   },
   "outputs": [],
   "source": [
    "write_csv('submission.csv', ['id', 'probability'], result)"
   ]
  },
  {
   "cell_type": "code",
   "execution_count": null,
   "metadata": {
    "collapsed": true
   },
   "outputs": [],
   "source": []
  }
 ],
 "metadata": {
  "kernelspec": {
   "display_name": "Python 3",
   "language": "python",
   "name": "python3"
  },
  "language_info": {
   "codemirror_mode": {
    "name": "ipython",
    "version": 3
   },
   "file_extension": ".py",
   "mimetype": "text/x-python",
   "name": "python",
   "nbconvert_exporter": "python",
   "pygments_lexer": "ipython3",
   "version": "3.4.3"
  }
 },
 "nbformat": 4,
 "nbformat_minor": 0
}
